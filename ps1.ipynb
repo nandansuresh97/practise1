{
  "nbformat": 4,
  "nbformat_minor": 0,
  "metadata": {
    "colab": {
      "provenance": []
    },
    "kernelspec": {
      "name": "python3",
      "display_name": "Python 3"
    },
    "language_info": {
      "name": "python"
    }
  },
  "cells": [
    {
      "cell_type": "code",
      "execution_count": null,
      "metadata": {
        "colab": {
          "base_uri": "https://localhost:8080/"
        },
        "id": "tWOpASZL2AVo",
        "outputId": "c6063b23-4bce-4a1b-af27-cec93c02cbd6"
      },
      "outputs": [
        {
          "output_type": "stream",
          "name": "stdout",
          "text": [
            "enter the radius2\n",
            "area of circle 12.566370614359172\n"
          ]
        }
      ],
      "source": [
        "import math\n",
        "def radius_circle(x):\n",
        "\n",
        " area = math.pi*x*x\n",
        " return area\n",
        "x= int(input(\"enter the radius\"))\n",
        "\n",
        "print(\"area of circle\",radius_circle(x))\n"
      ]
    },
    {
      "cell_type": "code",
      "source": [
        "name = input(\"enter the name\\t\")\n",
        "roll = int(input(\"Enter the roll number\\t\"))\n",
        "mark = int(input(\"enter the mark\\t\"))\n",
        "print(\"NAME:\", name)\n",
        "print(\"roll:\",roll)\n",
        "print(\"mark:\",mark)\n"
      ],
      "metadata": {
        "colab": {
          "base_uri": "https://localhost:8080/"
        },
        "id": "CFthiUqD2JBe",
        "outputId": "20554023-78e0-40a0-ee5e-8643bb46f8fd"
      },
      "execution_count": null,
      "outputs": [
        {
          "output_type": "stream",
          "name": "stdout",
          "text": [
            "enter the name\tnandana\n",
            "Enter the roll number\t50\n",
            "enter the mark\t70\n",
            "NAME: nandana\n",
            "roll: 50\n",
            "mark: 70\n"
          ]
        }
      ]
    },
    {
      "cell_type": "code",
      "source": [
        "list = [12, 3, 47, 10]\n",
        "print('highest',max(list))\n"
      ],
      "metadata": {
        "colab": {
          "base_uri": "https://localhost:8080/"
        },
        "id": "KRDsGZlh2P9Z",
        "outputId": "60719db0-f8c5-4172-e5c1-c4417d70cb23"
      },
      "execution_count": null,
      "outputs": [
        {
          "output_type": "stream",
          "name": "stdout",
          "text": [
            "highest 47\n"
          ]
        }
      ]
    },
    {
      "cell_type": "code",
      "source": [
        "list2 = range(1,11)\n",
        "for i in list2:\n",
        "  j=i-1\n",
        "  sum=i+j\n",
        "  print('The sum of current number',i,'and previous number',j,'is',sum)"
      ],
      "metadata": {
        "colab": {
          "base_uri": "https://localhost:8080/"
        },
        "id": "XIVYtsrr2U8l",
        "outputId": "67139d17-7c69-4df8-d5be-4b6da00e5f05"
      },
      "execution_count": null,
      "outputs": [
        {
          "output_type": "stream",
          "name": "stdout",
          "text": [
            "The sum of current number 1 and previous number 0 is 1\n",
            "The sum of current number 2 and previous number 1 is 3\n",
            "The sum of current number 3 and previous number 2 is 5\n",
            "The sum of current number 4 and previous number 3 is 7\n",
            "The sum of current number 5 and previous number 4 is 9\n",
            "The sum of current number 6 and previous number 5 is 11\n",
            "The sum of current number 7 and previous number 6 is 13\n",
            "The sum of current number 8 and previous number 7 is 15\n",
            "The sum of current number 9 and previous number 8 is 17\n",
            "The sum of current number 10 and previous number 9 is 19\n"
          ]
        }
      ]
    },
    {
      "cell_type": "code",
      "source": [
        "l = int(input('enter the limit'))\n",
        "num=[]\n",
        "for i in range(1,l+1):\n",
        "  x= int(input(\"enter the values\"))\n",
        "  num.append(x)\n",
        "for j in num:\n",
        "  if j%5 == 0:\n",
        "    print(j)\n"
      ],
      "metadata": {
        "colab": {
          "base_uri": "https://localhost:8080/"
        },
        "id": "NJPmDXn42br0",
        "outputId": "af874493-40ae-49e2-a7e2-35a63ae70286"
      },
      "execution_count": null,
      "outputs": [
        {
          "output_type": "stream",
          "name": "stdout",
          "text": [
            "enter the limit5\n",
            "enter the values6\n",
            "enter the values5\n",
            "enter the values7\n",
            "enter the values10\n",
            "enter the values14\n",
            "5\n",
            "10\n"
          ]
        }
      ]
    },
    {
      "cell_type": "code",
      "source": [
        "x = int(input(\"enter the number\"))\n",
        "if x > 1:\n",
        "  for i in range(2,x):\n",
        "     if x%i == 0:\n",
        "       print(\"not prime\")\n",
        "       break\n",
        "  else:\n",
        "    print(\"prime\")\n",
        "else:\n",
        "  print('number is zero')"
      ],
      "metadata": {
        "colab": {
          "base_uri": "https://localhost:8080/"
        },
        "id": "8nhBoXqB3Qk8",
        "outputId": "95570aa0-890a-4ce7-c867-e38f3ed978ef"
      },
      "execution_count": null,
      "outputs": [
        {
          "output_type": "stream",
          "name": "stdout",
          "text": [
            "enter the number7\n",
            "prime\n"
          ]
        }
      ]
    },
    {
      "cell_type": "code",
      "source": [
        "l3 =[]\n",
        "x= int(input(\"enter the range\"))\n",
        "\n",
        "for i in range(1,x+1):\n",
        "   num= int(input(\"enter the number\"))\n",
        "   l3.append(num)\n",
        "\n",
        "print(l3)\n",
        "l3.reverse()\n",
        "print(l3)\n"
      ],
      "metadata": {
        "colab": {
          "base_uri": "https://localhost:8080/"
        },
        "id": "y4cRyNAd3YQZ",
        "outputId": "690a2863-61e9-4344-8580-b2b95284a987"
      },
      "execution_count": null,
      "outputs": [
        {
          "output_type": "stream",
          "name": "stdout",
          "text": [
            "enter the range4\n",
            "enter the number2\n",
            "enter the number3\n",
            "enter the number4\n",
            "enter the number5\n",
            "[2, 3, 4, 5]\n",
            "[5, 4, 3, 2]\n"
          ]
        }
      ]
    },
    {
      "cell_type": "code",
      "source": [
        "num = int(input(\"enter the range\"))\n",
        "for i in range(0,num):\n",
        "  for j in range(0,i+1):\n",
        "    print(\"*\", end=\"\")\n",
        "\n",
        "  print()"
      ],
      "metadata": {
        "colab": {
          "base_uri": "https://localhost:8080/"
        },
        "id": "52Df3Nvk3lEv",
        "outputId": "6945c1b9-8592-45ba-81c8-245c79b12c2d"
      },
      "execution_count": null,
      "outputs": [
        {
          "output_type": "stream",
          "name": "stdout",
          "text": [
            "enter the range5\n",
            "*\n",
            "**\n",
            "***\n",
            "****\n",
            "*****\n"
          ]
        }
      ]
    },
    {
      "cell_type": "code",
      "source": [
        "list4 = []\n",
        "for i in range(1,4):\n",
        " x= int(input('enter the values'))\n",
        " list4.append(x)\n",
        "print(max(list4))"
      ],
      "metadata": {
        "colab": {
          "base_uri": "https://localhost:8080/"
        },
        "id": "-M5C9SWC3sWH",
        "outputId": "d6330080-a101-4257-932b-16c90bb8eaaa"
      },
      "execution_count": null,
      "outputs": [
        {
          "output_type": "stream",
          "name": "stdout",
          "text": [
            "enter the values4\n",
            "enter the values5\n",
            "enter the values6\n",
            "6\n"
          ]
        }
      ]
    },
    {
      "cell_type": "code",
      "source": [
        "num = int(input('Enter the limit'))\n",
        "for i in range(num):\n",
        "    for j in range(i):\n",
        "        print ('* ', end=\"\")\n",
        "    print('')\n",
        "for i in range(num,0,-1):\n",
        "    for j in range(i):\n",
        "        print('* ', end=\"\")\n",
        "    print('')"
      ],
      "metadata": {
        "colab": {
          "base_uri": "https://localhost:8080/"
        },
        "id": "-46j9S0f3843",
        "outputId": "a33c69dd-82a5-4388-98f5-0e654eb3a3c8"
      },
      "execution_count": null,
      "outputs": [
        {
          "output_type": "stream",
          "name": "stdout",
          "text": [
            "Enter the limit6\n",
            "\n",
            "* \n",
            "* * \n",
            "* * * \n",
            "* * * * \n",
            "* * * * * \n",
            "* * * * * * \n",
            "* * * * * \n",
            "* * * * \n",
            "* * * \n",
            "* * \n",
            "* \n"
          ]
        }
      ]
    }
  ]
}